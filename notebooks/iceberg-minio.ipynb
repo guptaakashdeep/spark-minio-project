{
 "cells": [
  {
   "cell_type": "code",
   "execution_count": 1,
   "id": "89edbe7c-b18c-48c7-8a6d-47a80908fbab",
   "metadata": {
    "scrolled": true
   },
   "outputs": [
    {
     "name": "stderr",
     "output_type": "stream",
     "text": [
      "24/12/22 06:50:32 WARN NativeCodeLoader: Unable to load native-hadoop library for your platform... using builtin-java classes where applicable\n",
      "Setting default log level to \"WARN\".\n",
      "To adjust logging level use sc.setLogLevel(newLevel). For SparkR, use setLogLevel(newLevel).\n"
     ]
    }
   ],
   "source": [
    "from pyspark.sql import SparkSession\n",
    "import os\n",
    "\n",
    "ICEBERG_CATALOG = \"ic_minio\"\n",
    "DW_PATH = 's3a://warehouse/iceberg'\n",
    "\n",
    "spark = SparkSession.builder \\\n",
    "    .master(\"spark://spark-master:7077\") \\\n",
    "    .appName(\"spark-minio\") \\\n",
    "    .config(\"spark.eventLog.enabled\", \"true\")\\\n",
    "    .config(\"spark.eventLog.dir\", \"/opt/spark/spark-events\")\\\n",
    "    .config(\"spark.history.fs.logDirectory\", \"/opt/spark/spark-events\")\\\n",
    "    .config('spark.jars', '/opt/extra-jars/iceberg-spark-runtime-3.5_2.12-1.4.2.jar,/opt/extra-jars/hadoop-aws-3.3.4.jar,/opt/extra-jars/aws-java-sdk-bundle-1.12.262.jar')\\\n",
    "    .config(\"spark.hadoop.fs.s3a.endpoint\", os.environ.get('MINIO_ENDPOINT')) \\\n",
    "    .config(\"spark.hadoop.fs.s3a.access.key\", os.environ.get('MINIO_ACCESS_KEY')) \\\n",
    "    .config(\"spark.hadoop.fs.s3a.secret.key\", os.environ.get('MINIO_SECRET_KEY')) \\\n",
    "    .config(\"spark.hadoop.fs.s3a.path.style.access\", \"true\") \\\n",
    "    .config(\"spark.hadoop.fs.s3a.impl\", \"org.apache.hadoop.fs.s3a.S3AFileSystem\") \\\n",
    "    .config(\"spark.hadoop.fs.s3a.aws.credentials.provider\", \"org.apache.hadoop.fs.s3a.SimpleAWSCredentialsProvider\") \\\n",
    "    .config(f'spark.sql.catalog.{ICEBERG_CATALOG}','org.apache.iceberg.spark.SparkCatalog') \\\n",
    "    .config(f'spark.sql.catalog.{ICEBERG_CATALOG}.type','hadoop') \\\n",
    "    .config(f'spark.sql.catalog.{ICEBERG_CATALOG}.warehouse', DW_PATH) \\\n",
    "    .getOrCreate()"
   ]
  },
  {
   "cell_type": "code",
   "execution_count": 2,
   "id": "9a6e6046-ac40-4c3b-8fa0-d47bde6db03c",
   "metadata": {},
   "outputs": [
    {
     "name": "stderr",
     "output_type": "stream",
     "text": [
      "                                                                                "
     ]
    },
    {
     "name": "stdout",
     "output_type": "stream",
     "text": [
      "+---+-----+\n",
      "|key|value|\n",
      "+---+-----+\n",
      "|foo|    1|\n",
      "|bar|    2|\n",
      "+---+-----+\n",
      "\n"
     ]
    }
   ],
   "source": [
    "# Create a dummy dataframe\n",
    "df = spark.createDataFrame([(\"foo\", 1), (\"bar\", 2)], [\"key\", \"value\"])\n",
    "df.show()"
   ]
  },
  {
   "cell_type": "code",
   "execution_count": 3,
   "id": "885c5d25-9d9a-430a-988c-64c9d11c8d93",
   "metadata": {},
   "outputs": [
    {
     "name": "stderr",
     "output_type": "stream",
     "text": [
      "24/12/22 06:50:44 WARN MetricsConfig: Cannot locate configuration: tried hadoop-metrics2-s3a-file-system.properties,hadoop-metrics2.properties\n"
     ]
    }
   ],
   "source": [
    "# Read test from notebook to minio\n",
    "TABLE_NAME = f\"{ICEBERG_CATALOG}.db.sales\"\n",
    "ic_df = spark.table(TABLE_NAME)"
   ]
  },
  {
   "cell_type": "code",
   "execution_count": 4,
   "id": "f9bef341-3f2a-4a63-b0f5-9229e2f7321e",
   "metadata": {},
   "outputs": [
    {
     "name": "stderr",
     "output_type": "stream",
     "text": [
      "[Stage 3:>                                                          (0 + 1) / 1]"
     ]
    },
    {
     "name": "stdout",
     "output_type": "stream",
     "text": [
      "+------------+------------+-------+--------+\n",
      "|order_number|product_code|year_id|month_id|\n",
      "+------------+------------+-------+--------+\n",
      "|           7|         ABC|   2024|       2|\n",
      "|           8|         XYZ|   2024|       2|\n",
      "|           5|         ABC|   2024|       1|\n",
      "|           6|         XYZ|   2024|       1|\n",
      "|           3|         ABC|   2023|       2|\n",
      "|           4|         XYZ|   2023|       2|\n",
      "|           1|         ABC|   2023|       1|\n",
      "|           2|         XYZ|   2023|       1|\n",
      "+------------+------------+-------+--------+\n",
      "\n"
     ]
    },
    {
     "name": "stderr",
     "output_type": "stream",
     "text": [
      "                                                                                "
     ]
    }
   ],
   "source": [
    "ic_df.show()"
   ]
  },
  {
   "cell_type": "code",
   "execution_count": 5,
   "id": "ebd1d16e-d645-4e17-b018-71a904c78622",
   "metadata": {},
   "outputs": [
    {
     "name": "stderr",
     "output_type": "stream",
     "text": [
      "                                                                                "
     ]
    }
   ],
   "source": [
    "# write test from notebook to minio\n",
    "# Create a dummy dataframe to write into sales table\n",
    "sales_df = spark.createDataFrame([(9, 'ABC', 2024, 3), (10, 'XYZ', 2024, 3)], [\"order_number\", \"product_code\", \"year_id\", \"month_id\"])\n",
    "sales_df.coalesce(1).writeTo(TABLE_NAME).append()"
   ]
  },
  {
   "cell_type": "code",
   "execution_count": null,
   "id": "6550ed26-7cd2-49bb-b246-a26bd22f118b",
   "metadata": {},
   "outputs": [],
   "source": [
    "spark.table(f\"{TABLE_NAME}.history\").show(truncate=False)"
   ]
  },
  {
   "cell_type": "code",
   "execution_count": null,
   "id": "2f677f73-a54b-4e99-9b67-8e45750f49b0",
   "metadata": {},
   "outputs": [],
   "source": []
  }
 ],
 "metadata": {
  "kernelspec": {
   "display_name": "Python 3 (ipykernel)",
   "language": "python",
   "name": "python3"
  },
  "language_info": {
   "codemirror_mode": {
    "name": "ipython",
    "version": 3
   },
   "file_extension": ".py",
   "mimetype": "text/x-python",
   "name": "python",
   "nbconvert_exporter": "python",
   "pygments_lexer": "ipython3",
   "version": "3.9.21"
  }
 },
 "nbformat": 4,
 "nbformat_minor": 5
}
